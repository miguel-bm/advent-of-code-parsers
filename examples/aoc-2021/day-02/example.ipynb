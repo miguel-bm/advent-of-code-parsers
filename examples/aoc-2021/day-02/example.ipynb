{
 "cells": [
  {
   "cell_type": "markdown",
   "metadata": {},
   "source": [
    "# Advent of Code Parsers example: 2021 day 2"
   ]
  },
  {
   "cell_type": "code",
   "execution_count": 1,
   "metadata": {},
   "outputs": [
    {
     "name": "stdout",
     "output_type": "stream",
     "text": [
      "forward 3\n",
      "down 9\n",
      "forward 5\n",
      "up 1\n",
      "forward 2\n",
      "down 1\n",
      "down 7\n",
      "down 5\n",
      "up 6\n",
      "forward 3\n"
     ]
    }
   ],
   "source": [
    "from pathlib import Path\n",
    "from pprint import pprint\n",
    "\n",
    "with (Path(globals()[\"_dh\"][0]) / \"input.txt\").open() as f:\n",
    "    raw_data = f.read()\n",
    "\n",
    "for line in raw_data.splitlines()[:10]:\n",
    "    print(line)"
   ]
  },
  {
   "cell_type": "markdown",
   "metadata": {},
   "source": [
    "Here, we parse for a list of tuples with two elements, a list and an integer.\n",
    "\n",
    "Splitters are deduced, so no need to specify them!"
   ]
  },
  {
   "cell_type": "code",
   "execution_count": 2,
   "metadata": {},
   "outputs": [
    {
     "name": "stdout",
     "output_type": "stream",
     "text": [
      "[('forward', 3),\n",
      " ('down', 9),\n",
      " ('forward', 5),\n",
      " ('up', 1),\n",
      " ('forward', 2),\n",
      " ('down', 1),\n",
      " ('down', 7),\n",
      " ('down', 5),\n",
      " ('up', 6),\n",
      " ('forward', 3)]\n"
     ]
    }
   ],
   "source": [
    "from aocp import ListParser, TupleParser\n",
    "\n",
    "parser = ListParser(TupleParser((str, int)))\n",
    "\n",
    "pprint(parser.parse(raw_data)[:10])"
   ]
  }
 ],
 "metadata": {
  "interpreter": {
   "hash": "af638c88df812e69e6b738d6a3531e6be34c5e73416fd2ea7ca3cf34fc4077ad"
  },
  "kernelspec": {
   "display_name": "Python 3.9.8 64-bit ('aocp-uoSTVMh4-py3.9': poetry)",
   "language": "python",
   "name": "python3"
  },
  "language_info": {
   "codemirror_mode": {
    "name": "ipython",
    "version": 3
   },
   "file_extension": ".py",
   "mimetype": "text/x-python",
   "name": "python",
   "nbconvert_exporter": "python",
   "pygments_lexer": "ipython3",
   "version": "3.9.8"
  },
  "orig_nbformat": 4
 },
 "nbformat": 4,
 "nbformat_minor": 2
}
