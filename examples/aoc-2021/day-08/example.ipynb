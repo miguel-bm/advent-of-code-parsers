{
 "cells": [
  {
   "cell_type": "markdown",
   "metadata": {},
   "source": [
    "# Advent of Code Parsers example: 2021 day 8"
   ]
  },
  {
   "cell_type": "code",
   "execution_count": 2,
   "metadata": {},
   "outputs": [
    {
     "name": "stdout",
     "output_type": "stream",
     "text": [
      "ecdbfag deacfb acdgb cdg acdbf gdfb efacdg gd cagdbf beacg | cdg dcebgaf gbdf bdacg\n",
      "fadecg gdbecaf agbfd fgdcb gab ebagdf feabcg deab gdefa ab | adfbg ab fcgdbae bfgecda\n",
      "cgebad edfagcb fg fedg ebfca gcefb fcedgb dbagcf cgf cdbeg | cfg acfbe bcgdafe dgeafcb\n",
      "bgcde cbefg gd dbeafc afbcgde bedgca gacd dbg cedba fbegda | agfcebd adgfbce dgb fgceb\n",
      "gadcbe gcade debfac fdagce egdbf cfedg fbgcade gafc dcf fc | fcga eacfdg gfca fdcbea\n",
      "dbgcae gdeaf cefga cfa dcbgfa cgfabe cefb cf ebfgcda acgbe | gebacdf fcgdeab bacdge cfeb\n",
      "fgde efc dacgf cbdgfa fe abdcfe afdbecg gaefdc gcfae abceg | ef agdcbf bfdagec efdg\n",
      "egfacd bfcdeg ac facbg acbe cfa fbgace fgecb gfdba fbdcgae | ac ca ca fgeacb\n",
      "acefg dae dfbec abfcedg cfdea dgeafc ad dfag eacgbd bcagfe | dfag gfad dgfa beagfcd\n",
      "gae cabfgd fbcag ecbgad gfec ge agbfe gdefbca bfeda cfbgea | geabf gecf efgc gafbc\n"
     ]
    }
   ],
   "source": [
    "from pathlib import Path\n",
    "from pprint import pprint\n",
    "\n",
    "with (Path(globals()[\"_dh\"][0]) / \"input.txt\").open() as f:\n",
    "    raw_data = f.read()\n",
    "\n",
    "for line in raw_data.splitlines()[:10]:\n",
    "    print(line)"
   ]
  },
  {
   "cell_type": "markdown",
   "metadata": {},
   "source": [
    "Again, this depents on how you want your formatted input to be.\n",
    "\n",
    "For a basic case, we might go for a 2-tuple of lists of strings for each line."
   ]
  },
  {
   "cell_type": "code",
   "execution_count": 4,
   "metadata": {},
   "outputs": [
    {
     "name": "stdout",
     "output_type": "stream",
     "text": [
      "[(['ecdbfag', 'deacfb', 'acdgb', 'cdg', 'acdbf', 'gdfb', 'efacdg', 'gd', 'cagdbf', 'beacg'],\n",
      "  ['cdg', 'dcebgaf', 'gbdf', 'bdacg']),\n",
      " (['fadecg', 'gdbecaf', 'agbfd', 'fgdcb', 'gab', 'ebagdf', 'feabcg', 'deab', 'gdefa', 'ab'],\n",
      "  ['adfbg', 'ab', 'fcgdbae', 'bfgecda']),\n",
      " (['cgebad', 'edfagcb', 'fg', 'fedg', 'ebfca', 'gcefb', 'fcedgb', 'dbagcf', 'cgf', 'cdbeg'],\n",
      "  ['cfg', 'acfbe', 'bcgdafe', 'dgeafcb']),\n",
      " (['bgcde', 'cbefg', 'gd', 'dbeafc', 'afbcgde', 'bedgca', 'gacd', 'dbg', 'cedba', 'fbegda'],\n",
      "  ['agfcebd', 'adgfbce', 'dgb', 'fgceb']),\n",
      " (['gadcbe', 'gcade', 'debfac', 'fdagce', 'egdbf', 'cfedg', 'fbgcade', 'gafc', 'dcf', 'fc'],\n",
      "  ['fcga', 'eacfdg', 'gfca', 'fdcbea']),\n",
      " (['dbgcae', 'gdeaf', 'cefga', 'cfa', 'dcbgfa', 'cgfabe', 'cefb', 'cf', 'ebfgcda', 'acgbe'],\n",
      "  ['gebacdf', 'fcgdeab', 'bacdge', 'cfeb']),\n",
      " (['fgde', 'efc', 'dacgf', 'cbdgfa', 'fe', 'abdcfe', 'afdbecg', 'gaefdc', 'gcfae', 'abceg'],\n",
      "  ['ef', 'agdcbf', 'bfdagec', 'efdg']),\n",
      " (['egfacd', 'bfcdeg', 'ac', 'facbg', 'acbe', 'cfa', 'fbgace', 'fgecb', 'gfdba', 'fbdcgae'],\n",
      "  ['ac', 'ca', 'ca', 'fgeacb']),\n",
      " (['acefg', 'dae', 'dfbec', 'abfcedg', 'cfdea', 'dgeafc', 'ad', 'dfag', 'eacgbd', 'bcagfe'],\n",
      "  ['dfag', 'gfad', 'dgfa', 'beagfcd']),\n",
      " (['gae', 'cabfgd', 'fbcag', 'ecbgad', 'gfec', 'ge', 'agbfe', 'gdefbca', 'bfeda', 'cfbgea'],\n",
      "  ['geabf', 'gecf', 'efgc', 'gafbc'])]\n"
     ]
    }
   ],
   "source": [
    "from aocp import ListParser, TupleParser\n",
    "\n",
    "parser = ListParser(TupleParser(ListParser()))\n",
    "\n",
    "pprint(parser.parse(raw_data)[:10], width=120)"
   ]
  },
  {
   "cell_type": "markdown",
   "metadata": {},
   "source": [
    "We might also want to sort the strings in each list alphabetically, which is useful for this problem."
   ]
  },
  {
   "cell_type": "code",
   "execution_count": 5,
   "metadata": {},
   "outputs": [
    {
     "name": "stdout",
     "output_type": "stream",
     "text": [
      "[(['abcdefg', 'abcdef', 'abcdg', 'cdg', 'abcdf', 'bdfg', 'acdefg', 'dg', 'abcdfg', 'abceg'],\n",
      "  ['cdg', 'abcdefg', 'bdfg', 'abcdg']),\n",
      " (['acdefg', 'abcdefg', 'abdfg', 'bcdfg', 'abg', 'abdefg', 'abcefg', 'abde', 'adefg', 'ab'],\n",
      "  ['abdfg', 'ab', 'abcdefg', 'abcdefg']),\n",
      " (['abcdeg', 'abcdefg', 'fg', 'defg', 'abcef', 'bcefg', 'bcdefg', 'abcdfg', 'cfg', 'bcdeg'],\n",
      "  ['cfg', 'abcef', 'abcdefg', 'abcdefg']),\n",
      " (['bcdeg', 'bcefg', 'dg', 'abcdef', 'abcdefg', 'abcdeg', 'acdg', 'bdg', 'abcde', 'abdefg'],\n",
      "  ['abcdefg', 'abcdefg', 'bdg', 'bcefg']),\n",
      " (['abcdeg', 'acdeg', 'abcdef', 'acdefg', 'bdefg', 'cdefg', 'abcdefg', 'acfg', 'cdf', 'cf'],\n",
      "  ['acfg', 'acdefg', 'acfg', 'abcdef']),\n",
      " (['abcdeg', 'adefg', 'acefg', 'acf', 'abcdfg', 'abcefg', 'bcef', 'cf', 'abcdefg', 'abceg'],\n",
      "  ['abcdefg', 'abcdefg', 'abcdeg', 'bcef']),\n",
      " (['defg', 'cef', 'acdfg', 'abcdfg', 'ef', 'abcdef', 'abcdefg', 'acdefg', 'acefg', 'abceg'],\n",
      "  ['ef', 'abcdfg', 'abcdefg', 'defg']),\n",
      " (['acdefg', 'bcdefg', 'ac', 'abcfg', 'abce', 'acf', 'abcefg', 'bcefg', 'abdfg', 'abcdefg'],\n",
      "  ['ac', 'ac', 'ac', 'abcefg']),\n",
      " (['acefg', 'ade', 'bcdef', 'abcdefg', 'acdef', 'acdefg', 'ad', 'adfg', 'abcdeg', 'abcefg'],\n",
      "  ['adfg', 'adfg', 'adfg', 'abcdefg']),\n",
      " (['aeg', 'abcdfg', 'abcfg', 'abcdeg', 'cefg', 'eg', 'abefg', 'abcdefg', 'abdef', 'abcefg'],\n",
      "  ['abefg', 'cefg', 'cefg', 'abcfg'])]\n"
     ]
    }
   ],
   "source": [
    "from aocp import SortTransform\n",
    "\n",
    "parser = ListParser(TupleParser(ListParser(SortTransform())))\n",
    "\n",
    "pprint(parser.parse(raw_data)[:10], width=120)"
   ]
  },
  {
   "cell_type": "markdown",
   "metadata": {},
   "source": [
    "Alternatively, we could treat the strings as sets of characters, which is also useful for the problem."
   ]
  },
  {
   "cell_type": "code",
   "execution_count": 8,
   "metadata": {},
   "outputs": [
    {
     "name": "stdout",
     "output_type": "stream",
     "text": [
      "[([{'f', 'c', 'b', 'd', 'g', 'e', 'a'},\n",
      "   {'f', 'c', 'b', 'd', 'e', 'a'},\n",
      "   {'c', 'b', 'd', 'g', 'a'},\n",
      "   {'c', 'g', 'd'},\n",
      "   {'f', 'c', 'b', 'd', 'a'},\n",
      "   {'f', 'g', 'b', 'd'},\n",
      "   {'f', 'c', 'd', 'g', 'e', 'a'},\n",
      "   {'g', 'd'},\n",
      "   {'f', 'c', 'b', 'd', 'g', 'a'},\n",
      "   {'c', 'b', 'g', 'e', 'a'}],\n",
      "  [{'c', 'g', 'd'}, {'f', 'c', 'b', 'd', 'g', 'e', 'a'}, {'b', 'g', 'd', 'f'}, {'c', 'b', 'd', 'g', 'a'}]),\n",
      " ([{'f', 'c', 'd', 'g', 'e', 'a'},\n",
      "   {'f', 'c', 'b', 'd', 'g', 'e', 'a'},\n",
      "   {'f', 'b', 'd', 'g', 'a'},\n",
      "   {'f', 'c', 'b', 'd', 'g'},\n",
      "   {'b', 'g', 'a'},\n",
      "   {'f', 'b', 'd', 'g', 'e', 'a'},\n",
      "   {'f', 'c', 'b', 'g', 'e', 'a'},\n",
      "   {'b', 'e', 'd', 'a'},\n",
      "   {'f', 'd', 'g', 'e', 'a'},\n",
      "   {'b', 'a'}],\n",
      "  [{'f', 'b', 'd', 'g', 'a'}, {'b', 'a'}, {'f', 'c', 'b', 'd', 'g', 'e', 'a'}, {'f', 'c', 'b', 'd', 'g', 'e', 'a'}])]\n"
     ]
    }
   ],
   "source": [
    "from aocp import SetParser\n",
    "\n",
    "parser = ListParser(TupleParser(ListParser(SetParser())))\n",
    "\n",
    "pprint(parser.parse(raw_data)[:2], width=120)"
   ]
  }
 ],
 "metadata": {
  "interpreter": {
   "hash": "af638c88df812e69e6b738d6a3531e6be34c5e73416fd2ea7ca3cf34fc4077ad"
  },
  "kernelspec": {
   "display_name": "Python 3.9.8 64-bit ('aocp-uoSTVMh4-py3.9': poetry)",
   "language": "python",
   "name": "python3"
  },
  "language_info": {
   "codemirror_mode": {
    "name": "ipython",
    "version": 3
   },
   "file_extension": ".py",
   "mimetype": "text/x-python",
   "name": "python",
   "nbconvert_exporter": "python",
   "pygments_lexer": "ipython3",
   "version": "3.9.8"
  },
  "orig_nbformat": 4
 },
 "nbformat": 4,
 "nbformat_minor": 2
}
