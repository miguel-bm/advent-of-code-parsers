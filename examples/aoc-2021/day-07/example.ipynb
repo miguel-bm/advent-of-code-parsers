{
 "cells": [
  {
   "cell_type": "markdown",
   "metadata": {},
   "source": [
    "# Advent of Code Parsers example: 2021 day 7"
   ]
  },
  {
   "cell_type": "code",
   "execution_count": 2,
   "metadata": {},
   "outputs": [
    {
     "name": "stdout",
     "output_type": "stream",
     "text": [
      "1101,1,29,67,1102,0,1,65,1008,65,35,66,1005,66,28,1,67,65,20,4,0,1001,65,1,65,1106,0,8,99,35,67,101,\n"
     ]
    }
   ],
   "source": [
    "from pathlib import Path\n",
    "from pprint import pprint\n",
    "\n",
    "with (Path(globals()[\"_dh\"][0]) / \"input.txt\").open() as f:\n",
    "    raw_data = f.read()\n",
    "\n",
    "print(raw_data[:100])"
   ]
  },
  {
   "cell_type": "markdown",
   "metadata": {},
   "source": [
    "Not much to say here, here the parsing was trivial : )"
   ]
  },
  {
   "cell_type": "code",
   "execution_count": 3,
   "metadata": {},
   "outputs": [
    {
     "name": "stdout",
     "output_type": "stream",
     "text": [
      "[1101, 1, 29, 67, 1102, 0, 1, 65, 1008, 65]\n"
     ]
    }
   ],
   "source": [
    "from aocp import ListParser\n",
    "\n",
    "parser = ListParser(int)\n",
    "\n",
    "pprint(parser.parse(raw_data)[:10])"
   ]
  },
  {
   "cell_type": "code",
   "execution_count": null,
   "metadata": {},
   "outputs": [],
   "source": []
  }
 ],
 "metadata": {
  "interpreter": {
   "hash": "af638c88df812e69e6b738d6a3531e6be34c5e73416fd2ea7ca3cf34fc4077ad"
  },
  "kernelspec": {
   "display_name": "Python 3.9.8 64-bit ('aocp-uoSTVMh4-py3.9': poetry)",
   "language": "python",
   "name": "python3"
  },
  "language_info": {
   "codemirror_mode": {
    "name": "ipython",
    "version": 3
   },
   "file_extension": ".py",
   "mimetype": "text/x-python",
   "name": "python",
   "nbconvert_exporter": "python",
   "pygments_lexer": "ipython3",
   "version": "3.9.8"
  },
  "orig_nbformat": 4
 },
 "nbformat": 4,
 "nbformat_minor": 2
}
