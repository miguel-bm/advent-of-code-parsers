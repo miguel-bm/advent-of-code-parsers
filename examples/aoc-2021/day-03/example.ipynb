{
 "cells": [
  {
   "cell_type": "markdown",
   "metadata": {},
   "source": [
    "# Advent of Code Parsers example: 2021 day 3"
   ]
  },
  {
   "cell_type": "code",
   "execution_count": 2,
   "metadata": {},
   "outputs": [
    {
     "name": "stdout",
     "output_type": "stream",
     "text": [
      "000000011010\n",
      "011001111011\n",
      "100101011101\n",
      "000110000110\n",
      "101010001010\n",
      "010010000011\n",
      "011001111001\n",
      "100111000000\n",
      "011101011010\n",
      "000000110001\n"
     ]
    }
   ],
   "source": [
    "from pathlib import Path\n",
    "from pprint import pprint\n",
    "\n",
    "with (Path(globals()[\"_dh\"][0]) / \"input.txt\").open() as f:\n",
    "    raw_data = f.read()\n",
    "\n",
    "for line in raw_data.splitlines()[:10]:\n",
    "    print(line)"
   ]
  },
  {
   "cell_type": "markdown",
   "metadata": {},
   "source": [
    "This example depends more on what you want to do with each line of input.\n",
    "\n",
    "For instance, we can parse for a list of lists of integers."
   ]
  },
  {
   "cell_type": "code",
   "execution_count": 3,
   "metadata": {},
   "outputs": [
    {
     "name": "stdout",
     "output_type": "stream",
     "text": [
      "[[0, 0, 0, 0, 0, 0, 0, 1, 1, 0, 1, 0],\n",
      " [0, 1, 1, 0, 0, 1, 1, 1, 1, 0, 1, 1],\n",
      " [1, 0, 0, 1, 0, 1, 0, 1, 1, 1, 0, 1],\n",
      " [0, 0, 0, 1, 1, 0, 0, 0, 0, 1, 1, 0],\n",
      " [1, 0, 1, 0, 1, 0, 0, 0, 1, 0, 1, 0],\n",
      " [0, 1, 0, 0, 1, 0, 0, 0, 0, 0, 1, 1],\n",
      " [0, 1, 1, 0, 0, 1, 1, 1, 1, 0, 0, 1],\n",
      " [1, 0, 0, 1, 1, 1, 0, 0, 0, 0, 0, 0],\n",
      " [0, 1, 1, 1, 0, 1, 0, 1, 1, 0, 1, 0],\n",
      " [0, 0, 0, 0, 0, 0, 1, 1, 0, 0, 0, 1]]\n"
     ]
    }
   ],
   "source": [
    "from aocp import ListParser\n",
    "\n",
    "parser = ListParser(ListParser(int))\n",
    "\n",
    "pprint(parser.parse(raw_data)[:10])"
   ]
  },
  {
   "cell_type": "markdown",
   "metadata": {},
   "source": [
    "Alternatively, we could parse a list of binary integers (although this is not very practical for this particular problem)"
   ]
  },
  {
   "cell_type": "code",
   "execution_count": 4,
   "metadata": {},
   "outputs": [
    {
     "name": "stdout",
     "output_type": "stream",
     "text": [
      "[26, 1659, 2397, 390, 2698, 1155, 1657, 2496, 1882, 49]\n"
     ]
    }
   ],
   "source": [
    "from aocp import IntParser\n",
    "\n",
    "parser = ListParser(IntParser(base=2))\n",
    "\n",
    "pprint(parser.parse(raw_data)[:10])"
   ]
  },
  {
   "cell_type": "markdown",
   "metadata": {},
   "source": [
    "We can also parse booleans instead of integers.\n",
    "\n",
    "Note that for that we need to use `BoolParser`, since Pythons `bool` will not interpret the string input properly."
   ]
  },
  {
   "cell_type": "code",
   "execution_count": 5,
   "metadata": {},
   "outputs": [
    {
     "name": "stdout",
     "output_type": "stream",
     "text": [
      "[[False, False, False, False, False, False, False, True, True, False, True, False],\n",
      " [False, True, True, False, False, True, True, True, True, False, True, True],\n",
      " [True, False, False, True, False, True, False, True, True, True, False, True],\n",
      " [False, False, False, True, True, False, False, False, False, True, True, False],\n",
      " [True, False, True, False, True, False, False, False, True, False, True, False],\n",
      " [False, True, False, False, True, False, False, False, False, False, True, True],\n",
      " [False, True, True, False, False, True, True, True, True, False, False, True],\n",
      " [True, False, False, True, True, True, False, False, False, False, False, False],\n",
      " [False, True, True, True, False, True, False, True, True, False, True, False],\n",
      " [False, False, False, False, False, False, True, True, False, False, False, True]]\n"
     ]
    }
   ],
   "source": [
    "from aocp import BoolParser\n",
    "\n",
    "parser = ListParser(ListParser(BoolParser()))\n",
    "\n",
    "pprint(parser.parse(raw_data)[:10], width=120)"
   ]
  }
 ],
 "metadata": {
  "interpreter": {
   "hash": "af638c88df812e69e6b738d6a3531e6be34c5e73416fd2ea7ca3cf34fc4077ad"
  },
  "kernelspec": {
   "display_name": "Python 3.9.8 64-bit ('aocp-uoSTVMh4-py3.9': poetry)",
   "language": "python",
   "name": "python3"
  },
  "language_info": {
   "codemirror_mode": {
    "name": "ipython",
    "version": 3
   },
   "file_extension": ".py",
   "mimetype": "text/x-python",
   "name": "python",
   "nbconvert_exporter": "python",
   "pygments_lexer": "ipython3",
   "version": "3.9.8"
  },
  "orig_nbformat": 4
 },
 "nbformat": 4,
 "nbformat_minor": 2
}
