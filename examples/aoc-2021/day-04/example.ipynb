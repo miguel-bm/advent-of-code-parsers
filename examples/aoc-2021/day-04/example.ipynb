{
 "cells": [
  {
   "cell_type": "markdown",
   "metadata": {},
   "source": [
    "# Advent of Code Parsers example: 2021 day 4"
   ]
  },
  {
   "cell_type": "code",
   "execution_count": 2,
   "metadata": {},
   "outputs": [
    {
     "name": "stdout",
     "output_type": "stream",
     "text": [
      "46,79,77,45,57,34,44,13,32,88,86,82,91,97,89,1,48,31,18,10,55,74,24,11,80,78,28,37,47,17,21,61,26,85,99,96,23,70,3,54,5,41,50,63,14,64,42,36,95,52,76,68,29,9,98,35,84,83,71,49,73,58,56,66,92,30,51,20,81,69,65,15,6,16,39,43,67,7,59,40,60,4,90,72,22,0,93,94,38,53,87,27,12,2,25,19,8,62,33,75\n",
      "\n",
      "84 94 24 52 44\n",
      "96 33 74 35 13\n",
      "60 51 41 19 95\n",
      "50 93 27 40  1\n",
      "67 23 37 88 85\n",
      "\n",
      "12 85  6 97 77\n",
      "79 28 24 70 51\n",
      "71 72 78 55 73\n",
      "11 36  5 98 19\n",
      "30 67 89 95 62\n",
      "\n",
      "54 38 70 29 51\n",
      "16 19 80 96 63\n",
      "76 23 10 30 24\n",
      "45 81 97 82 90\n",
      "60 94 28 11 83\n",
      "\n"
     ]
    }
   ],
   "source": [
    "from pathlib import Path\n",
    "from pprint import pprint\n",
    "\n",
    "with (Path(globals()[\"_dh\"][0]) / \"input.txt\").open() as f:\n",
    "    raw_data = f.read()\n",
    "\n",
    "for line in raw_data.splitlines()[:20]:\n",
    "    print(line)"
   ]
  },
  {
   "cell_type": "markdown",
   "metadata": {},
   "source": [
    "This is a bit more interesting!\n",
    "\n",
    "In this problem we have esentially two inputs:\n",
    " 1. A sequence of comma-separated positive integers\n",
    " 2. A series of positive integer matrices. \n",
    "  * The atrices are separated by two newlines\n",
    "  * The lines in each matrix are separated by single newlines\n",
    "  * The integers in each line are separated by spaces (one or more)\n",
    "\n",
    "Thankfully, AOCP can handle this without much trouble, while deducing the separators (we could also specify them if we needed to).\n",
    "\n",
    " * First, we use a `TupleParser` to break the two inputs. It will deduce how to separate them if it can imply we are looking for a 2-tuple from the number of subparsers we then specify.\n",
    " * For the first part, we simply parse for a list of integers.\n",
    " * For the second part, we can use a list of matrices, which are a list of lists of integers."
   ]
  },
  {
   "cell_type": "code",
   "execution_count": 4,
   "metadata": {},
   "outputs": [
    {
     "name": "stdout",
     "output_type": "stream",
     "text": [
      "[46, 79, 77, 45, 57, 34, 44, 13, 32, 88]\n",
      "[[[84, 94, 24, 52, 44],\n",
      "  [96, 33, 74, 35, 13],\n",
      "  [60, 51, 41, 19, 95],\n",
      "  [50, 93, 27, 40, 1],\n",
      "  [67, 23, 37, 88, 85]],\n",
      " [[12, 85, 6, 97, 77],\n",
      "  [79, 28, 24, 70, 51],\n",
      "  [71, 72, 78, 55, 73],\n",
      "  [11, 36, 5, 98, 19],\n",
      "  [30, 67, 89, 95, 62]],\n",
      " [[54, 38, 70, 29, 51],\n",
      "  [16, 19, 80, 96, 63],\n",
      "  [76, 23, 10, 30, 24],\n",
      "  [45, 81, 97, 82, 90],\n",
      "  [60, 94, 28, 11, 83]],\n",
      " [[50, 56, 42, 68, 48],\n",
      "  [6, 70, 78, 22, 27],\n",
      "  [75, 11, 63, 24, 47],\n",
      "  [29, 99, 91, 73, 97],\n",
      "  [7, 16, 28, 12, 44]],\n",
      " [[20, 62, 50, 36, 12],\n",
      "  [3, 10, 40, 8, 56],\n",
      "  [78, 61, 66, 37, 89],\n",
      "  [72, 26, 19, 65, 22],\n",
      "  [30, 91, 27, 5, 63]]]\n"
     ]
    }
   ],
   "source": [
    "from aocp import ListParser, TupleParser\n",
    "\n",
    "parser = TupleParser(\n",
    "    (\n",
    "        ListParser(int),\n",
    "        ListParser(ListParser(ListParser(int))),\n",
    "    )\n",
    ")\n",
    "sequence, matrices = parser.parse(raw_data)\n",
    "pprint(sequence[:10])\n",
    "pprint(matrices[:5])"
   ]
  }
 ],
 "metadata": {
  "interpreter": {
   "hash": "af638c88df812e69e6b738d6a3531e6be34c5e73416fd2ea7ca3cf34fc4077ad"
  },
  "kernelspec": {
   "display_name": "Python 3.9.8 64-bit ('aocp-uoSTVMh4-py3.9': poetry)",
   "language": "python",
   "name": "python3"
  },
  "language_info": {
   "codemirror_mode": {
    "name": "ipython",
    "version": 3
   },
   "file_extension": ".py",
   "mimetype": "text/x-python",
   "name": "python",
   "nbconvert_exporter": "python",
   "pygments_lexer": "ipython3",
   "version": "3.9.8"
  },
  "orig_nbformat": 4
 },
 "nbformat": 4,
 "nbformat_minor": 2
}
