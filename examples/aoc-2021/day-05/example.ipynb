{
 "cells": [
  {
   "cell_type": "markdown",
   "metadata": {},
   "source": [
    "# Advent of Code Parsers example: 2021 day 5"
   ]
  },
  {
   "cell_type": "code",
   "execution_count": 1,
   "metadata": {},
   "outputs": [
    {
     "name": "stdout",
     "output_type": "stream",
     "text": [
      "60,28 -> 893,861\n",
      "934,945 -> 222,233\n",
      "125,246 -> 125,306\n",
      "490,255 -> 490,847\n",
      "457,868 -> 364,961\n",
      "610,46 -> 610,826\n",
      "338,711 -> 982,67\n",
      "199,581 -> 295,581\n",
      "578,489 -> 522,545\n",
      "180,516 -> 180,904\n"
     ]
    }
   ],
   "source": [
    "from pathlib import Path\n",
    "from pprint import pprint\n",
    "\n",
    "with (Path(globals()[\"_dh\"][0]) / \"input.txt\").open() as f:\n",
    "    raw_data = f.read()\n",
    "\n",
    "for line in raw_data.splitlines()[:10]:\n",
    "    print(line)"
   ]
  },
  {
   "cell_type": "markdown",
   "metadata": {},
   "source": [
    "This example depends on what you want to do with each line of input.\n",
    "\n",
    "For instance, we can get a list of 2-tuples with 2-tuples inside."
   ]
  },
  {
   "cell_type": "code",
   "execution_count": 2,
   "metadata": {},
   "outputs": [
    {
     "name": "stdout",
     "output_type": "stream",
     "text": [
      "[((60, 28), (893, 861)),\n",
      " ((934, 945), (222, 233)),\n",
      " ((125, 246), (125, 306)),\n",
      " ((490, 255), (490, 847)),\n",
      " ((457, 868), (364, 961)),\n",
      " ((610, 46), (610, 826)),\n",
      " ((338, 711), (982, 67)),\n",
      " ((199, 581), (295, 581)),\n",
      " ((578, 489), (522, 545)),\n",
      " ((180, 516), (180, 904))]\n"
     ]
    }
   ],
   "source": [
    "from aocp import ListParser, TupleParser\n",
    "\n",
    "parser = ListParser(TupleParser(TupleParser(int)))\n",
    "\n",
    "pprint(parser.parse(raw_data)[:10])"
   ]
  },
  {
   "cell_type": "markdown",
   "metadata": {},
   "source": [
    "However, you might find more practical to get a 4-tuple for each line. In that case we need to specify that we want to use both `\",\"` and `\"->\"` as splitters."
   ]
  },
  {
   "cell_type": "code",
   "execution_count": 3,
   "metadata": {},
   "outputs": [
    {
     "name": "stdout",
     "output_type": "stream",
     "text": [
      "[(60, 28, 893, 861),\n",
      " (934, 945, 222, 233),\n",
      " (125, 246, 125, 306),\n",
      " (490, 255, 490, 847),\n",
      " (457, 868, 364, 961),\n",
      " (610, 46, 610, 826),\n",
      " (338, 711, 982, 67),\n",
      " (199, 581, 295, 581),\n",
      " (578, 489, 522, 545),\n",
      " (180, 516, 180, 904)]\n"
     ]
    }
   ],
   "source": [
    "from aocp import ListParser, TupleParser\n",
    "\n",
    "parser = ListParser(TupleParser(int, splitter=[\",\", \"->\"]))\n",
    "\n",
    "pprint(parser.parse(raw_data)[:10])"
   ]
  },
  {
   "cell_type": "markdown",
   "metadata": {},
   "source": [
    "If we want to spend the time, AOCP let's you go even fancier and use dataclasses!"
   ]
  },
  {
   "cell_type": "code",
   "execution_count": 5,
   "metadata": {},
   "outputs": [
    {
     "name": "stdout",
     "output_type": "stream",
     "text": [
      "[Vent(start=Point(x=60, y=28), end=Point(x=893, y=861)),\n",
      " Vent(start=Point(x=934, y=945), end=Point(x=222, y=233)),\n",
      " Vent(start=Point(x=125, y=246), end=Point(x=125, y=306)),\n",
      " Vent(start=Point(x=490, y=255), end=Point(x=490, y=847)),\n",
      " Vent(start=Point(x=457, y=868), end=Point(x=364, y=961)),\n",
      " Vent(start=Point(x=610, y=46), end=Point(x=610, y=826)),\n",
      " Vent(start=Point(x=338, y=711), end=Point(x=982, y=67)),\n",
      " Vent(start=Point(x=199, y=581), end=Point(x=295, y=581)),\n",
      " Vent(start=Point(x=578, y=489), end=Point(x=522, y=545)),\n",
      " Vent(start=Point(x=180, y=516), end=Point(x=180, y=904))]\n"
     ]
    }
   ],
   "source": [
    "from dataclasses import dataclass\n",
    "\n",
    "@dataclass\n",
    "class Point:\n",
    "    x: int\n",
    "    y: int\n",
    "\n",
    "\n",
    "@dataclass\n",
    "class Vent:\n",
    "    start: Point\n",
    "    end: Point\n",
    "\n",
    "\n",
    "parser = ListParser(TupleParser(TupleParser(int, dataclass=Point), dataclass=Vent))\n",
    "\n",
    "pprint(parser.parse(raw_data)[:10])"
   ]
  },
  {
   "cell_type": "markdown",
   "metadata": {},
   "source": [
    "It also works with namedtuples, which you might want to use for brevity in AoC solutions:"
   ]
  },
  {
   "cell_type": "code",
   "execution_count": 6,
   "metadata": {},
   "outputs": [
    {
     "name": "stdout",
     "output_type": "stream",
     "text": [
      "[Vent(start=Point(x=60, y=28), end=Point(x=893, y=861)),\n",
      " Vent(start=Point(x=934, y=945), end=Point(x=222, y=233)),\n",
      " Vent(start=Point(x=125, y=246), end=Point(x=125, y=306)),\n",
      " Vent(start=Point(x=490, y=255), end=Point(x=490, y=847)),\n",
      " Vent(start=Point(x=457, y=868), end=Point(x=364, y=961)),\n",
      " Vent(start=Point(x=610, y=46), end=Point(x=610, y=826)),\n",
      " Vent(start=Point(x=338, y=711), end=Point(x=982, y=67)),\n",
      " Vent(start=Point(x=199, y=581), end=Point(x=295, y=581)),\n",
      " Vent(start=Point(x=578, y=489), end=Point(x=522, y=545)),\n",
      " Vent(start=Point(x=180, y=516), end=Point(x=180, y=904))]\n"
     ]
    }
   ],
   "source": [
    "from collections import namedtuple\n",
    "point = namedtuple(\"Point\", \"x y\")\n",
    "vent = namedtuple(\"Vent\", \"start end\")\n",
    "parser = ListParser(TupleParser(TupleParser(int, dataclass=point), dataclass=vent))\n",
    "\n",
    "pprint(parser.parse(raw_data)[:10])"
   ]
  }
 ],
 "metadata": {
  "interpreter": {
   "hash": "af638c88df812e69e6b738d6a3531e6be34c5e73416fd2ea7ca3cf34fc4077ad"
  },
  "kernelspec": {
   "display_name": "Python 3.9.8 64-bit ('aocp-uoSTVMh4-py3.9': poetry)",
   "language": "python",
   "name": "python3"
  },
  "language_info": {
   "codemirror_mode": {
    "name": "ipython",
    "version": 3
   },
   "file_extension": ".py",
   "mimetype": "text/x-python",
   "name": "python",
   "nbconvert_exporter": "python",
   "pygments_lexer": "ipython3",
   "version": "3.9.8"
  },
  "orig_nbformat": 4
 },
 "nbformat": 4,
 "nbformat_minor": 2
}
