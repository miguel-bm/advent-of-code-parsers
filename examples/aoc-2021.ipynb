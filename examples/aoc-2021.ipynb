{
 "cells": [
  {
   "cell_type": "markdown",
   "metadata": {},
   "source": [
    "# Advent of Code Parsers examples: 2021\n",
    "\n",
    "This notebook will go through all of the inputs in the [Advent of Code 2021](https://adventofcode.com/2021/) problems and try to appy `aocp` in order to parse the inputs."
   ]
  },
  {
   "cell_type": "code",
   "execution_count": 1,
   "metadata": {},
   "outputs": [],
   "source": [
    "from pathlib import Path\n",
    "from pprint import pprint\n",
    "from dataclasses import dataclass\n",
    "from collections import namedtuple\n",
    "\n",
    "from aocp import (\n",
    "    IntParser, \n",
    "    ListParser, \n",
    "    IntListParser, \n",
    "    TupleParser, \n",
    "    BoolParser, \n",
    "    SortTransform, \n",
    "    SetParser,\n",
    ")\n",
    "\n",
    "from aocd.models import Puzzle\n",
    "\n",
    "\n",
    "def get_raw_data(day: int) -> str:\n",
    "    puzzle = Puzzle(year=2021, day=day)\n",
    "    return puzzle.input_data\n",
    "\n",
    "def print_head(string: str, limit: int = 10):\n",
    "    for line in string.splitlines()[:limit]:\n",
    "        print(line)\n",
    "\n",
    "def print_start(string: str, limit: int = 50):\n",
    "    print(string[:limit])\n"
   ]
  },
  {
   "cell_type": "markdown",
   "metadata": {},
   "source": [
    "## [Day 1](https://adventofcode.com/2021/day/1)"
   ]
  },
  {
   "cell_type": "code",
   "execution_count": 2,
   "metadata": {},
   "outputs": [
    {
     "name": "stdout",
     "output_type": "stream",
     "text": [
      "141\n",
      "140\n",
      "160\n",
      "161\n",
      "162\n",
      "172\n",
      "178\n",
      "185\n",
      "184\n",
      "186\n"
     ]
    }
   ],
   "source": [
    "raw_data = get_raw_data(1)\n",
    "print_head(raw_data)"
   ]
  },
  {
   "cell_type": "markdown",
   "metadata": {},
   "source": [
    "The input is just a series of lines with integers, so we use a `ListParser` with a nested `int`.\n",
    "\n",
    "Splitters are deduced, so no need to specify them!"
   ]
  },
  {
   "cell_type": "code",
   "execution_count": 3,
   "metadata": {},
   "outputs": [
    {
     "name": "stdout",
     "output_type": "stream",
     "text": [
      "[141, 140, 160, 161, 162, 172, 178, 185, 184, 186]\n"
     ]
    }
   ],
   "source": [
    "parser = ListParser(int)\n",
    "pprint(parser.parse(raw_data)[:10])"
   ]
  },
  {
   "cell_type": "markdown",
   "metadata": {},
   "source": [
    "Note that we could also use `IntListParser` if we wished, which is less flexible but faster."
   ]
  },
  {
   "cell_type": "code",
   "execution_count": 4,
   "metadata": {},
   "outputs": [
    {
     "name": "stdout",
     "output_type": "stream",
     "text": [
      "[141, 140, 160, 161, 162, 172, 178, 185, 184, 186]\n"
     ]
    }
   ],
   "source": [
    "parser = IntListParser()\n",
    "pprint(parser.parse(raw_data)[:10])"
   ]
  },
  {
   "cell_type": "markdown",
   "metadata": {},
   "source": [
    "## [Day 2](https://adventofcode.com/2021/day/2)"
   ]
  },
  {
   "cell_type": "code",
   "execution_count": 5,
   "metadata": {},
   "outputs": [
    {
     "name": "stdout",
     "output_type": "stream",
     "text": [
      "forward 3\n",
      "down 9\n",
      "forward 5\n",
      "up 1\n",
      "forward 2\n",
      "down 1\n",
      "down 7\n",
      "down 5\n",
      "up 6\n",
      "forward 3\n"
     ]
    }
   ],
   "source": [
    "raw_data = get_raw_data(2)\n",
    "print_head(raw_data)"
   ]
  },
  {
   "cell_type": "markdown",
   "metadata": {},
   "source": [
    "Here, we parse for a list of tuples with two elements, a list and an integer.\n",
    "\n",
    "Splitters are deduced, so no need to specify them!"
   ]
  },
  {
   "cell_type": "code",
   "execution_count": 6,
   "metadata": {},
   "outputs": [
    {
     "name": "stdout",
     "output_type": "stream",
     "text": [
      "[('forward', 3),\n",
      " ('down', 9),\n",
      " ('forward', 5),\n",
      " ('up', 1),\n",
      " ('forward', 2),\n",
      " ('down', 1),\n",
      " ('down', 7),\n",
      " ('down', 5),\n",
      " ('up', 6),\n",
      " ('forward', 3)]\n"
     ]
    }
   ],
   "source": [
    "parser = ListParser(TupleParser((str, int)))\n",
    "pprint(parser.parse(raw_data)[:10])"
   ]
  },
  {
   "cell_type": "markdown",
   "metadata": {},
   "source": [
    "## [Day 3](https://adventofcode.com/2021/day/3)"
   ]
  },
  {
   "cell_type": "code",
   "execution_count": 7,
   "metadata": {},
   "outputs": [
    {
     "name": "stdout",
     "output_type": "stream",
     "text": [
      "000000011010\n",
      "011001111011\n",
      "100101011101\n",
      "000110000110\n",
      "101010001010\n",
      "010010000011\n",
      "011001111001\n",
      "100111000000\n",
      "011101011010\n",
      "000000110001\n"
     ]
    }
   ],
   "source": [
    "raw_data = get_raw_data(3)\n",
    "print_head(raw_data)"
   ]
  },
  {
   "cell_type": "markdown",
   "metadata": {},
   "source": [
    "This example depends more on what you want to do with each line of input.\n",
    "\n",
    "For instance, we can parse for a list of lists of integers."
   ]
  },
  {
   "cell_type": "code",
   "execution_count": 8,
   "metadata": {},
   "outputs": [
    {
     "name": "stdout",
     "output_type": "stream",
     "text": [
      "[[0, 0, 0, 0, 0, 0, 0, 1, 1, 0, 1, 0],\n",
      " [0, 1, 1, 0, 0, 1, 1, 1, 1, 0, 1, 1],\n",
      " [1, 0, 0, 1, 0, 1, 0, 1, 1, 1, 0, 1],\n",
      " [0, 0, 0, 1, 1, 0, 0, 0, 0, 1, 1, 0],\n",
      " [1, 0, 1, 0, 1, 0, 0, 0, 1, 0, 1, 0],\n",
      " [0, 1, 0, 0, 1, 0, 0, 0, 0, 0, 1, 1],\n",
      " [0, 1, 1, 0, 0, 1, 1, 1, 1, 0, 0, 1],\n",
      " [1, 0, 0, 1, 1, 1, 0, 0, 0, 0, 0, 0],\n",
      " [0, 1, 1, 1, 0, 1, 0, 1, 1, 0, 1, 0],\n",
      " [0, 0, 0, 0, 0, 0, 1, 1, 0, 0, 0, 1]]\n"
     ]
    }
   ],
   "source": [
    "parser = ListParser(ListParser(int))\n",
    "pprint(parser.parse(raw_data)[:10])"
   ]
  },
  {
   "cell_type": "markdown",
   "metadata": {},
   "source": [
    "Alternatively, we could parse a list of binary integers (although this is not very practical for this particular problem)"
   ]
  },
  {
   "cell_type": "code",
   "execution_count": 9,
   "metadata": {},
   "outputs": [
    {
     "name": "stdout",
     "output_type": "stream",
     "text": [
      "[26, 1659, 2397, 390, 2698, 1155, 1657, 2496, 1882, 49]\n"
     ]
    }
   ],
   "source": [
    "parser = ListParser(IntParser(base=2))\n",
    "pprint(parser.parse(raw_data)[:10])"
   ]
  },
  {
   "cell_type": "markdown",
   "metadata": {},
   "source": [
    "We can also parse booleans instead of integers.\n",
    "\n",
    "Note that for that we need to use `BoolParser`, since Pythons `bool` will not interpret the string input properly."
   ]
  },
  {
   "cell_type": "code",
   "execution_count": 10,
   "metadata": {},
   "outputs": [
    {
     "name": "stdout",
     "output_type": "stream",
     "text": [
      "[[False, False, False, False, False, False, False, True, True, False, True, False],\n",
      " [False, True, True, False, False, True, True, True, True, False, True, True],\n",
      " [True, False, False, True, False, True, False, True, True, True, False, True],\n",
      " [False, False, False, True, True, False, False, False, False, True, True, False],\n",
      " [True, False, True, False, True, False, False, False, True, False, True, False],\n",
      " [False, True, False, False, True, False, False, False, False, False, True, True],\n",
      " [False, True, True, False, False, True, True, True, True, False, False, True],\n",
      " [True, False, False, True, True, True, False, False, False, False, False, False],\n",
      " [False, True, True, True, False, True, False, True, True, False, True, False],\n",
      " [False, False, False, False, False, False, True, True, False, False, False, True]]\n"
     ]
    }
   ],
   "source": [
    "parser = ListParser(ListParser(BoolParser()))\n",
    "pprint(parser.parse(raw_data)[:10], width=120)"
   ]
  },
  {
   "cell_type": "markdown",
   "metadata": {},
   "source": [
    "## [Day 4](https://adventofcode.com/2021/day/4)"
   ]
  },
  {
   "cell_type": "code",
   "execution_count": 11,
   "metadata": {},
   "outputs": [
    {
     "name": "stdout",
     "output_type": "stream",
     "text": [
      "46,79,77,45,57,34,44,13,32,88,86,82,91,97,89,1,48,31,18,10,55,74,24,11,80,78,28,37,47,17,21,61,26,85,99,96,23,70,3,54,5,41,50,63,14,64,42,36,95,52,76,68,29,9,98,35,84,83,71,49,73,58,56,66,92,30,51,20,81,69,65,15,6,16,39,43,67,7,59,40,60,4,90,72,22,0,93,94,38,53,87,27,12,2,25,19,8,62,33,75\n",
      "\n",
      "84 94 24 52 44\n",
      "96 33 74 35 13\n",
      "60 51 41 19 95\n",
      "50 93 27 40  1\n",
      "67 23 37 88 85\n",
      "\n",
      "12 85  6 97 77\n",
      "79 28 24 70 51\n",
      "71 72 78 55 73\n",
      "11 36  5 98 19\n",
      "30 67 89 95 62\n",
      "\n",
      "54 38 70 29 51\n",
      "16 19 80 96 63\n",
      "76 23 10 30 24\n",
      "45 81 97 82 90\n",
      "60 94 28 11 83\n",
      "\n"
     ]
    }
   ],
   "source": [
    "raw_data = get_raw_data(4)\n",
    "print_head(raw_data, 20)"
   ]
  },
  {
   "cell_type": "markdown",
   "metadata": {},
   "source": [
    "This is a bit more interesting!\n",
    "\n",
    "In this problem we have esentially two inputs:\n",
    " 1. A sequence of comma-separated positive integers\n",
    " 2. A series of positive integer matrices. \n",
    "  * The atrices are separated by two newlines\n",
    "  * The lines in each matrix are separated by single newlines\n",
    "  * The integers in each line are separated by spaces (one or more)\n",
    "\n",
    "Thankfully, AOCP can handle this without much trouble, while deducing the separators (we could also specify them if we needed to).\n",
    "\n",
    " * First, we use a `TupleParser` to break the two inputs. It will deduce how to separate them if it can imply we are looking for a 2-tuple from the number of subparsers we then specify.\n",
    " * For the first part, we simply parse for a list of integers.\n",
    " * For the second part, we can use a list of matrices, which are a list of lists of integers."
   ]
  },
  {
   "cell_type": "code",
   "execution_count": 12,
   "metadata": {},
   "outputs": [
    {
     "name": "stdout",
     "output_type": "stream",
     "text": [
      "[46, 79, 77, 45, 57, 34, 44, 13, 32, 88]\n",
      "[[[84, 94, 24, 52, 44],\n",
      "  [96, 33, 74, 35, 13],\n",
      "  [60, 51, 41, 19, 95],\n",
      "  [50, 93, 27, 40, 1],\n",
      "  [67, 23, 37, 88, 85]],\n",
      " [[12, 85, 6, 97, 77],\n",
      "  [79, 28, 24, 70, 51],\n",
      "  [71, 72, 78, 55, 73],\n",
      "  [11, 36, 5, 98, 19],\n",
      "  [30, 67, 89, 95, 62]],\n",
      " [[54, 38, 70, 29, 51],\n",
      "  [16, 19, 80, 96, 63],\n",
      "  [76, 23, 10, 30, 24],\n",
      "  [45, 81, 97, 82, 90],\n",
      "  [60, 94, 28, 11, 83]],\n",
      " [[50, 56, 42, 68, 48],\n",
      "  [6, 70, 78, 22, 27],\n",
      "  [75, 11, 63, 24, 47],\n",
      "  [29, 99, 91, 73, 97],\n",
      "  [7, 16, 28, 12, 44]],\n",
      " [[20, 62, 50, 36, 12],\n",
      "  [3, 10, 40, 8, 56],\n",
      "  [78, 61, 66, 37, 89],\n",
      "  [72, 26, 19, 65, 22],\n",
      "  [30, 91, 27, 5, 63]]]\n"
     ]
    }
   ],
   "source": [
    "parser = TupleParser(\n",
    "    (\n",
    "        IntListParser(),\n",
    "        ListParser(ListParser(IntListParser())),\n",
    "    )\n",
    ")\n",
    "sequence, matrices = parser.parse(raw_data)\n",
    "pprint(sequence[:10])\n",
    "pprint(matrices[:5])"
   ]
  },
  {
   "cell_type": "markdown",
   "metadata": {},
   "source": [
    "## [Day 5](https://adventofcode.com/2021/day/5)"
   ]
  },
  {
   "cell_type": "code",
   "execution_count": 13,
   "metadata": {},
   "outputs": [
    {
     "name": "stdout",
     "output_type": "stream",
     "text": [
      "60,28 -> 893,861\n",
      "934,945 -> 222,233\n",
      "125,246 -> 125,306\n",
      "490,255 -> 490,847\n",
      "457,868 -> 364,961\n",
      "610,46 -> 610,826\n",
      "338,711 -> 982,67\n",
      "199,581 -> 295,581\n",
      "578,489 -> 522,545\n",
      "180,516 -> 180,904\n"
     ]
    }
   ],
   "source": [
    "raw_data = get_raw_data(5)\n",
    "print_head(raw_data)"
   ]
  },
  {
   "cell_type": "markdown",
   "metadata": {},
   "source": [
    "This example depends on what you want to do with each line of input, so we will use it to explore a few different possibilities.\n",
    "\n",
    "The quickest way is to just use `IntListParser`."
   ]
  },
  {
   "cell_type": "code",
   "execution_count": 14,
   "metadata": {},
   "outputs": [
    {
     "name": "stdout",
     "output_type": "stream",
     "text": [
      "[[60, 28, 893, 861],\n",
      " [934, 945, 222, 233],\n",
      " [125, 246, 125, 306],\n",
      " [490, 255, 490, 847],\n",
      " [457, 868, 364, 961],\n",
      " [610, 46, 610, 826],\n",
      " [338, 711, 982, 67],\n",
      " [199, 581, 295, 581],\n",
      " [578, 489, 522, 545],\n",
      " [180, 516, 180, 904]]\n"
     ]
    }
   ],
   "source": [
    "parser = ListParser(IntListParser())\n",
    "pprint(parser.parse(raw_data)[:10])"
   ]
  },
  {
   "cell_type": "markdown",
   "metadata": {},
   "source": [
    "There are other ways to do this problem. For instance, we can get a list of 2-tuples with 2-tuples inside."
   ]
  },
  {
   "cell_type": "code",
   "execution_count": 15,
   "metadata": {},
   "outputs": [
    {
     "name": "stdout",
     "output_type": "stream",
     "text": [
      "[((60, 28), (893, 861)),\n",
      " ((934, 945), (222, 233)),\n",
      " ((125, 246), (125, 306)),\n",
      " ((490, 255), (490, 847)),\n",
      " ((457, 868), (364, 961)),\n",
      " ((610, 46), (610, 826)),\n",
      " ((338, 711), (982, 67)),\n",
      " ((199, 581), (295, 581)),\n",
      " ((578, 489), (522, 545)),\n",
      " ((180, 516), (180, 904))]\n"
     ]
    }
   ],
   "source": [
    "parser = ListParser(TupleParser(TupleParser(int)))\n",
    "pprint(parser.parse(raw_data)[:10])"
   ]
  },
  {
   "cell_type": "markdown",
   "metadata": {},
   "source": [
    "However, you might find more practical to get a 4-tuple for each line. In that case we need to specify that we want to use both `\",\"` and `\"->\"` as splitters."
   ]
  },
  {
   "cell_type": "code",
   "execution_count": 16,
   "metadata": {},
   "outputs": [
    {
     "name": "stdout",
     "output_type": "stream",
     "text": [
      "[(60, 28, 893, 861),\n",
      " (934, 945, 222, 233),\n",
      " (125, 246, 125, 306),\n",
      " (490, 255, 490, 847),\n",
      " (457, 868, 364, 961),\n",
      " (610, 46, 610, 826),\n",
      " (338, 711, 982, 67),\n",
      " (199, 581, 295, 581),\n",
      " (578, 489, 522, 545),\n",
      " (180, 516, 180, 904)]\n"
     ]
    }
   ],
   "source": [
    "parser = ListParser(TupleParser(int, splitter=[\",\", \"->\"]))\n",
    "pprint(parser.parse(raw_data)[:10])"
   ]
  },
  {
   "cell_type": "markdown",
   "metadata": {},
   "source": [
    "If we want to spend the time, AOCP let's you go even fancier and use dataclasses!"
   ]
  },
  {
   "cell_type": "code",
   "execution_count": 17,
   "metadata": {},
   "outputs": [
    {
     "name": "stdout",
     "output_type": "stream",
     "text": [
      "[Vent(start=Point(x=60, y=28), end=Point(x=893, y=861)),\n",
      " Vent(start=Point(x=934, y=945), end=Point(x=222, y=233)),\n",
      " Vent(start=Point(x=125, y=246), end=Point(x=125, y=306)),\n",
      " Vent(start=Point(x=490, y=255), end=Point(x=490, y=847)),\n",
      " Vent(start=Point(x=457, y=868), end=Point(x=364, y=961)),\n",
      " Vent(start=Point(x=610, y=46), end=Point(x=610, y=826)),\n",
      " Vent(start=Point(x=338, y=711), end=Point(x=982, y=67)),\n",
      " Vent(start=Point(x=199, y=581), end=Point(x=295, y=581)),\n",
      " Vent(start=Point(x=578, y=489), end=Point(x=522, y=545)),\n",
      " Vent(start=Point(x=180, y=516), end=Point(x=180, y=904))]\n"
     ]
    }
   ],
   "source": [
    "@dataclass\n",
    "class Point:\n",
    "    x: int\n",
    "    y: int\n",
    "\n",
    "\n",
    "@dataclass\n",
    "class Vent:\n",
    "    start: Point\n",
    "    end: Point\n",
    "\n",
    "parser = ListParser(TupleParser(TupleParser(int, dataclass=Point), dataclass=Vent))\n",
    "\n",
    "pprint(parser.parse(raw_data)[:10])"
   ]
  },
  {
   "cell_type": "markdown",
   "metadata": {},
   "source": [
    "It also works with namedtuples, which you might want to use for brevity in AoC solutions:"
   ]
  },
  {
   "cell_type": "code",
   "execution_count": 18,
   "metadata": {},
   "outputs": [
    {
     "name": "stdout",
     "output_type": "stream",
     "text": [
      "[Vent(start=Point(x=60, y=28), end=Point(x=893, y=861)),\n",
      " Vent(start=Point(x=934, y=945), end=Point(x=222, y=233)),\n",
      " Vent(start=Point(x=125, y=246), end=Point(x=125, y=306)),\n",
      " Vent(start=Point(x=490, y=255), end=Point(x=490, y=847)),\n",
      " Vent(start=Point(x=457, y=868), end=Point(x=364, y=961)),\n",
      " Vent(start=Point(x=610, y=46), end=Point(x=610, y=826)),\n",
      " Vent(start=Point(x=338, y=711), end=Point(x=982, y=67)),\n",
      " Vent(start=Point(x=199, y=581), end=Point(x=295, y=581)),\n",
      " Vent(start=Point(x=578, y=489), end=Point(x=522, y=545)),\n",
      " Vent(start=Point(x=180, y=516), end=Point(x=180, y=904))]\n"
     ]
    }
   ],
   "source": [
    "point = namedtuple(\"Point\", \"x y\")\n",
    "vent = namedtuple(\"Vent\", \"start end\")\n",
    "\n",
    "parser = ListParser(TupleParser(TupleParser(int, dataclass=point), dataclass=vent))\n",
    "\n",
    "pprint(parser.parse(raw_data)[:10])"
   ]
  },
  {
   "cell_type": "markdown",
   "metadata": {},
   "source": [
    "## [Day 6](https://adventofcode.com/2021/day/6)"
   ]
  },
  {
   "cell_type": "code",
   "execution_count": 19,
   "metadata": {},
   "outputs": [
    {
     "name": "stdout",
     "output_type": "stream",
     "text": [
      "1,3,1,5,5,1,1,1,5,1,1,1,3,1,1,4,3,1,1,2,2,4,2,1,3,3,2,4,4,4,1,3,1,1,4,3,1,5,5,1,1,3,4,2,1,5,3,4,5,5,2,5,5,1,5,5,2,1,5,1,1,2,1,1,1,4,4,1,3,3,1,5,4,4,3,4,3,3,1,1,3,4,1,5,5,2,5,2,2,4,1,2,5,2,1,2,5,4,1,1,1,1,1,4,1,1,3,1,5,2,5,1,3,1,5,3,3,2,2,1,5,1,1,1,2,1,1,2,1,1,2,1,5,3,5,2,5,2,2,2,1,1,1,5,5,2,2,1,1,3,4,1,1,3,1,3,5,1,4,1,4,1,3,1,4,1,1,1,1,2,1,4,5,4,5,5,2,1,3,1,4,2,5,1,1,3,5,2,1,2,2,5,1,2,2,4,5,2,1,1,1,1,2,2,3,1,5,5,5,3,2,4,2,4,1,5,3,1,4,4,2,4,2,2,4,4,4,4,1,3,4,3,2,1,3,5,3,1,5,5,4,1,5,1,2,4,2,5,4,1,3,3,1,4,1,3,3,3,1,3,1,1,1,1,4,1,2,3,1,3,3,5,2,3,1,1,1,5,5,4,1,2,3,1,3,1,1,4,1,3,2,2,1,1,1,3,4,3,1,3\n"
     ]
    }
   ],
   "source": [
    "raw_data = get_raw_data(6)\n",
    "print(raw_data)"
   ]
  },
  {
   "cell_type": "markdown",
   "metadata": {},
   "source": [
    "Not much to say here, here the parsing was trivial in any case : )"
   ]
  },
  {
   "cell_type": "code",
   "execution_count": 20,
   "metadata": {},
   "outputs": [
    {
     "name": "stdout",
     "output_type": "stream",
     "text": [
      "[1, 3, 1, 5, 5, 1, 1, 1, 5, 1]\n"
     ]
    }
   ],
   "source": [
    "parser = IntListParser()\n",
    "pprint(parser.parse(raw_data)[:10])"
   ]
  },
  {
   "cell_type": "markdown",
   "metadata": {},
   "source": [
    "It also works with:"
   ]
  },
  {
   "cell_type": "code",
   "execution_count": 21,
   "metadata": {},
   "outputs": [
    {
     "name": "stdout",
     "output_type": "stream",
     "text": [
      "[1, 3, 1, 5, 5, 1, 1, 1, 5, 1]\n"
     ]
    }
   ],
   "source": [
    "parser = ListParser(int)\n",
    "pprint(parser.parse(raw_data)[:10])"
   ]
  },
  {
   "cell_type": "markdown",
   "metadata": {},
   "source": [
    "## [Day 7](https://adventofcode.com/2021/day/7)"
   ]
  },
  {
   "cell_type": "code",
   "execution_count": 22,
   "metadata": {},
   "outputs": [
    {
     "name": "stdout",
     "output_type": "stream",
     "text": [
      "1101,1,29,67,1102,0,1,65,1008,65,35,66,1005,66,28,\n"
     ]
    }
   ],
   "source": [
    "raw_data = get_raw_data(7)\n",
    "print_start(raw_data)"
   ]
  },
  {
   "cell_type": "markdown",
   "metadata": {},
   "source": [
    "Another trivial parsing."
   ]
  },
  {
   "cell_type": "code",
   "execution_count": 23,
   "metadata": {},
   "outputs": [
    {
     "name": "stdout",
     "output_type": "stream",
     "text": [
      "[1101, 1, 29, 67, 1102, 0, 1, 65, 1008, 65]\n"
     ]
    }
   ],
   "source": [
    "parser = IntListParser()\n",
    "pprint(parser.parse(raw_data)[:10])"
   ]
  },
  {
   "cell_type": "markdown",
   "metadata": {},
   "source": [
    "## [Day 8](https://adventofcode.com/2021/day/8)"
   ]
  },
  {
   "cell_type": "code",
   "execution_count": 24,
   "metadata": {},
   "outputs": [
    {
     "name": "stdout",
     "output_type": "stream",
     "text": [
      "ecdbfag deacfb acdgb cdg acdbf gdfb efacdg gd cagdbf beacg | cdg dcebgaf gbdf bdacg\n",
      "fadecg gdbecaf agbfd fgdcb gab ebagdf feabcg deab gdefa ab | adfbg ab fcgdbae bfgecda\n",
      "cgebad edfagcb fg fedg ebfca gcefb fcedgb dbagcf cgf cdbeg | cfg acfbe bcgdafe dgeafcb\n",
      "bgcde cbefg gd dbeafc afbcgde bedgca gacd dbg cedba fbegda | agfcebd adgfbce dgb fgceb\n",
      "gadcbe gcade debfac fdagce egdbf cfedg fbgcade gafc dcf fc | fcga eacfdg gfca fdcbea\n",
      "dbgcae gdeaf cefga cfa dcbgfa cgfabe cefb cf ebfgcda acgbe | gebacdf fcgdeab bacdge cfeb\n",
      "fgde efc dacgf cbdgfa fe abdcfe afdbecg gaefdc gcfae abceg | ef agdcbf bfdagec efdg\n",
      "egfacd bfcdeg ac facbg acbe cfa fbgace fgecb gfdba fbdcgae | ac ca ca fgeacb\n",
      "acefg dae dfbec abfcedg cfdea dgeafc ad dfag eacgbd bcagfe | dfag gfad dgfa beagfcd\n",
      "gae cabfgd fbcag ecbgad gfec ge agbfe gdefbca bfeda cfbgea | geabf gecf efgc gafbc\n"
     ]
    }
   ],
   "source": [
    "raw_data = get_raw_data(8)\n",
    "print_head(raw_data)"
   ]
  },
  {
   "cell_type": "markdown",
   "metadata": {},
   "source": [
    "Again, this depents on how you want your formatted input to be.\n",
    "\n",
    "For a basic case, we might go for a 2-tuple of lists of strings for each line."
   ]
  },
  {
   "cell_type": "code",
   "execution_count": 25,
   "metadata": {},
   "outputs": [
    {
     "name": "stdout",
     "output_type": "stream",
     "text": [
      "[(['ecdbfag', 'deacfb', 'acdgb', 'cdg', 'acdbf', 'gdfb', 'efacdg', 'gd', 'cagdbf', 'beacg'],\n",
      "  ['cdg', 'dcebgaf', 'gbdf', 'bdacg']),\n",
      " (['fadecg', 'gdbecaf', 'agbfd', 'fgdcb', 'gab', 'ebagdf', 'feabcg', 'deab', 'gdefa', 'ab'],\n",
      "  ['adfbg', 'ab', 'fcgdbae', 'bfgecda']),\n",
      " (['cgebad', 'edfagcb', 'fg', 'fedg', 'ebfca', 'gcefb', 'fcedgb', 'dbagcf', 'cgf', 'cdbeg'],\n",
      "  ['cfg', 'acfbe', 'bcgdafe', 'dgeafcb']),\n",
      " (['bgcde', 'cbefg', 'gd', 'dbeafc', 'afbcgde', 'bedgca', 'gacd', 'dbg', 'cedba', 'fbegda'],\n",
      "  ['agfcebd', 'adgfbce', 'dgb', 'fgceb']),\n",
      " (['gadcbe', 'gcade', 'debfac', 'fdagce', 'egdbf', 'cfedg', 'fbgcade', 'gafc', 'dcf', 'fc'],\n",
      "  ['fcga', 'eacfdg', 'gfca', 'fdcbea']),\n",
      " (['dbgcae', 'gdeaf', 'cefga', 'cfa', 'dcbgfa', 'cgfabe', 'cefb', 'cf', 'ebfgcda', 'acgbe'],\n",
      "  ['gebacdf', 'fcgdeab', 'bacdge', 'cfeb']),\n",
      " (['fgde', 'efc', 'dacgf', 'cbdgfa', 'fe', 'abdcfe', 'afdbecg', 'gaefdc', 'gcfae', 'abceg'],\n",
      "  ['ef', 'agdcbf', 'bfdagec', 'efdg']),\n",
      " (['egfacd', 'bfcdeg', 'ac', 'facbg', 'acbe', 'cfa', 'fbgace', 'fgecb', 'gfdba', 'fbdcgae'],\n",
      "  ['ac', 'ca', 'ca', 'fgeacb']),\n",
      " (['acefg', 'dae', 'dfbec', 'abfcedg', 'cfdea', 'dgeafc', 'ad', 'dfag', 'eacgbd', 'bcagfe'],\n",
      "  ['dfag', 'gfad', 'dgfa', 'beagfcd']),\n",
      " (['gae', 'cabfgd', 'fbcag', 'ecbgad', 'gfec', 'ge', 'agbfe', 'gdefbca', 'bfeda', 'cfbgea'],\n",
      "  ['geabf', 'gecf', 'efgc', 'gafbc'])]\n"
     ]
    }
   ],
   "source": [
    "parser = ListParser(TupleParser(ListParser()))\n",
    "pprint(parser.parse(raw_data)[:10], width=120)"
   ]
  },
  {
   "cell_type": "markdown",
   "metadata": {},
   "source": [
    "We might also want to sort the strings in each list alphabetically, which is useful for this problem. For that, we can use the `SortTransform` applied to the final elements."
   ]
  },
  {
   "cell_type": "code",
   "execution_count": 26,
   "metadata": {},
   "outputs": [
    {
     "name": "stdout",
     "output_type": "stream",
     "text": [
      "[(['abcdefg', 'abcdef', 'abcdg', 'cdg', 'abcdf', 'bdfg', 'acdefg', 'dg', 'abcdfg', 'abceg'],\n",
      "  ['cdg', 'abcdefg', 'bdfg', 'abcdg']),\n",
      " (['acdefg', 'abcdefg', 'abdfg', 'bcdfg', 'abg', 'abdefg', 'abcefg', 'abde', 'adefg', 'ab'],\n",
      "  ['abdfg', 'ab', 'abcdefg', 'abcdefg']),\n",
      " (['abcdeg', 'abcdefg', 'fg', 'defg', 'abcef', 'bcefg', 'bcdefg', 'abcdfg', 'cfg', 'bcdeg'],\n",
      "  ['cfg', 'abcef', 'abcdefg', 'abcdefg']),\n",
      " (['bcdeg', 'bcefg', 'dg', 'abcdef', 'abcdefg', 'abcdeg', 'acdg', 'bdg', 'abcde', 'abdefg'],\n",
      "  ['abcdefg', 'abcdefg', 'bdg', 'bcefg']),\n",
      " (['abcdeg', 'acdeg', 'abcdef', 'acdefg', 'bdefg', 'cdefg', 'abcdefg', 'acfg', 'cdf', 'cf'],\n",
      "  ['acfg', 'acdefg', 'acfg', 'abcdef']),\n",
      " (['abcdeg', 'adefg', 'acefg', 'acf', 'abcdfg', 'abcefg', 'bcef', 'cf', 'abcdefg', 'abceg'],\n",
      "  ['abcdefg', 'abcdefg', 'abcdeg', 'bcef']),\n",
      " (['defg', 'cef', 'acdfg', 'abcdfg', 'ef', 'abcdef', 'abcdefg', 'acdefg', 'acefg', 'abceg'],\n",
      "  ['ef', 'abcdfg', 'abcdefg', 'defg']),\n",
      " (['acdefg', 'bcdefg', 'ac', 'abcfg', 'abce', 'acf', 'abcefg', 'bcefg', 'abdfg', 'abcdefg'],\n",
      "  ['ac', 'ac', 'ac', 'abcefg']),\n",
      " (['acefg', 'ade', 'bcdef', 'abcdefg', 'acdef', 'acdefg', 'ad', 'adfg', 'abcdeg', 'abcefg'],\n",
      "  ['adfg', 'adfg', 'adfg', 'abcdefg']),\n",
      " (['aeg', 'abcdfg', 'abcfg', 'abcdeg', 'cefg', 'eg', 'abefg', 'abcdefg', 'abdef', 'abcefg'],\n",
      "  ['abefg', 'cefg', 'cefg', 'abcfg'])]\n"
     ]
    }
   ],
   "source": [
    "parser = ListParser(TupleParser(ListParser(SortTransform())))\n",
    "pprint(parser.parse(raw_data)[:10], width=120)"
   ]
  },
  {
   "cell_type": "markdown",
   "metadata": {},
   "source": [
    "Alternatively, we could treat the strings as sets of characters, which is also useful for the problem."
   ]
  },
  {
   "cell_type": "code",
   "execution_count": 27,
   "metadata": {},
   "outputs": [
    {
     "name": "stdout",
     "output_type": "stream",
     "text": [
      "[([{'b', 'd', 'a', 'e', 'f', 'c', 'g'},\n",
      "   {'b', 'd', 'a', 'e', 'f', 'c'},\n",
      "   {'b', 'd', 'a', 'c', 'g'},\n",
      "   {'d', 'g', 'c'},\n",
      "   {'b', 'd', 'a', 'f', 'c'},\n",
      "   {'b', 'd', 'f', 'g'},\n",
      "   {'d', 'a', 'e', 'f', 'c', 'g'},\n",
      "   {'d', 'g'},\n",
      "   {'b', 'd', 'a', 'f', 'c', 'g'},\n",
      "   {'b', 'a', 'e', 'c', 'g'}],\n",
      "  [{'d', 'g', 'c'}, {'b', 'd', 'a', 'e', 'f', 'c', 'g'}, {'b', 'd', 'f', 'g'}, {'b', 'd', 'a', 'c', 'g'}]),\n",
      " ([{'d', 'a', 'e', 'f', 'c', 'g'},\n",
      "   {'b', 'd', 'a', 'e', 'f', 'c', 'g'},\n",
      "   {'b', 'd', 'a', 'f', 'g'},\n",
      "   {'b', 'd', 'f', 'c', 'g'},\n",
      "   {'b', 'a', 'g'},\n",
      "   {'b', 'd', 'a', 'e', 'f', 'g'},\n",
      "   {'b', 'a', 'e', 'f', 'c', 'g'},\n",
      "   {'b', 'd', 'a', 'e'},\n",
      "   {'d', 'a', 'e', 'f', 'g'},\n",
      "   {'b', 'a'}],\n",
      "  [{'b', 'd', 'a', 'f', 'g'}, {'b', 'a'}, {'b', 'd', 'a', 'e', 'f', 'c', 'g'}, {'b', 'd', 'a', 'e', 'f', 'c', 'g'}])]\n"
     ]
    }
   ],
   "source": [
    "parser = ListParser(TupleParser(ListParser(SetParser())))\n",
    "pprint(parser.parse(raw_data)[:2], width=120)"
   ]
  }
 ],
 "metadata": {
  "interpreter": {
   "hash": "af638c88df812e69e6b738d6a3531e6be34c5e73416fd2ea7ca3cf34fc4077ad"
  },
  "kernelspec": {
   "display_name": "Python 3.9.8 64-bit ('aocp-uoSTVMh4-py3.9': poetry)",
   "language": "python",
   "name": "python3"
  },
  "language_info": {
   "codemirror_mode": {
    "name": "ipython",
    "version": 3
   },
   "file_extension": ".py",
   "mimetype": "text/x-python",
   "name": "python",
   "nbconvert_exporter": "python",
   "pygments_lexer": "ipython3",
   "version": "3.9.8"
  },
  "orig_nbformat": 4
 },
 "nbformat": 4,
 "nbformat_minor": 2
}
